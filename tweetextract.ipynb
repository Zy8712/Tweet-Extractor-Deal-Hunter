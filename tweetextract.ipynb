{
  "cells": [
    {
      "cell_type": "code",
      "execution_count": null,
      "metadata": {
        "id": "Feb6qD96TdUD"
      },
      "outputs": [],
      "source": [
        "twitter_api_key = input(\"Please enter your twitter API key:\") # code provided by starting template"
      ]
    },
    {
      "cell_type": "code",
      "execution_count": null,
      "metadata": {
        "id": "ftspf0ZcBY6H"
      },
      "outputs": [],
      "source": [
        "twitter_api_key_secret = input(\"Please enter your twitter API key secret:\") # code added as required for tweet retrieval"
      ]
    },
    {
      "cell_type": "code",
      "execution_count": null,
      "metadata": {
        "id": "G5Fsc0ROBpr4"
      },
      "outputs": [],
      "source": [
        "twitter_access_token = input(\"Please enter your twitter access token:\") # code added as required for tweet retrieval"
      ]
    },
    {
      "cell_type": "code",
      "execution_count": null,
      "metadata": {
        "id": "8-P80sZIBqGs"
      },
      "outputs": [],
      "source": [
        "twitter_access_token_secret = input(\"Please enter your twitter access token secret:\"); # code added as required for tweet retrieval"
      ]
    },
    {
      "cell_type": "code",
      "execution_count": null,
      "metadata": {
        "colab": {
          "background_save": true
        },
        "id": "TCXlj_Pvo8Hl"
      },
      "outputs": [],
      "source": [
        "openai_api_key = input(\"Please enter your OpenAI API key:\") # code provided by starting template"
      ]
    },
    {
      "cell_type": "code",
      "execution_count": null,
      "metadata": {
        "id": "vFpU_lbltd6n"
      },
      "outputs": [],
      "source": [
        "!pip install twitter\n",
        "!pip install tweepy\n",
        "!pip install pandas"
      ]
    },
    {
      "cell_type": "code",
      "execution_count": null,
      "metadata": {
        "id": "TzbsM8D_Eue7"
      },
      "outputs": [],
      "source": [
        "import pandas as pd\n",
        "import tweepy\n",
        "\n",
        "def get_tweets_by_handle(handle: str, api_key: str):\n",
        "  # ...your code here\n",
        "\n",
        "  # code for twitter authentication, uses the information entered by the user in Step 1\n",
        "  auth = tweepy.OAuthHandler(twitter_api_key, twitter_api_key_secret)\n",
        "  auth.set_access_token(twitter_access_token, twitter_access_token_secret)\n",
        "\n",
        "  # create an api object which we'll use to retrieve the tweets\n",
        "  api = tweepy.API(auth, wait_on_rate_limit=True, wait_on_rate_limit_notify=True) # add rate limits \n",
        "\n",
        "  tweets = [] # declare an array to store the tweets\n",
        "\n",
        "  # use the API object to retrieve the latest tweets, the number of which is indicated by the \"counter\" parameter\n",
        "  tweets = api.user_timeline(screen_name=handle, count=20) \n",
        "\n",
        "  #for tweet in tweets:\n",
        "    #print(tweet.text)\n",
        "\n",
        "  # extract and store only the tweet's text, the tweet ID, and user's twitter handle\n",
        "  tweet_list = [[tweet.text, tweet.id, tweet.user.screen_name] for tweet in tweets] # iterate through all the tweets retrieved\n",
        "  \n",
        "  tweetsPandasDF = pd.DataFrame(tweet_list, columns=['text', 'tweet_id', 'handle']) # convert \n",
        "  #print(tweetsPandasDF)\n",
        "\n",
        "  return tweetsPandasDF # an output of tweets pandas dataframe as requested by the instructions\n"
      ]
    },
    {
      "cell_type": "code",
      "execution_count": null,
      "metadata": {
        "id": "US_UD9LA0MRI"
      },
      "outputs": [],
      "source": [
        "!pip install openai"
      ]
    },
    {
      "cell_type": "code",
      "execution_count": null,
      "metadata": {
        "id": "eAOWfOesKW4O"
      },
      "outputs": [],
      "source": [
        "import os\n",
        "import openai\n",
        "import re\n",
        "\n",
        "def check_deal_from_tweet(tweet: str, api_key: str) -> bool:\n",
        "\n",
        "  # ... your code here\n",
        "\n",
        "  # remove links included in tweet as they cause us to go over the token limit/threshold\n",
        "  tweet = re.sub(r'https?:\\/\\/\\S+', '', tweet) \n",
        "\n",
        "  openai.api_key = api_key # set the api key\n",
        "\n",
        "  # write up a prompt for OpenAI\n",
        "  prompt = (f\"Does this tweet have a deal? {tweet}\") # prompt includes the question and the tweet in question\n",
        "\n",
        "  # \n",
        "  completions = openai.Completion.create(\n",
        "      engine = \"text-davinci-002\", # ID of the model to use\n",
        "      prompt = prompt, # the prompt created earlier that we are using to question OpenAI\n",
        "      max_tokens = 280, # the maximum number of tokens to generate in the completion.\n",
        "      n = 1, # how many completions to generate for each prompt\n",
        "      stop = '.',\n",
        "      temperature = 0.7, # the sampling temperature to be use. Higher values means the model will take more risks.\n",
        "  )\n",
        "\n",
        "  message = completions.choices[0].text # retrieve and store response from OpenAI\n",
        "\n",
        "  # check message returned by OpenAI to see if it detects a deal\n",
        "  if \"True\" in message or \"Yes\" in message:   # if a deal is detected to be present set boolean var to true\n",
        "    dealTF = True             \n",
        "  else:    # if no deal is detected to be present set boolean variable to false\n",
        "    dealTF = False \n",
        "\n",
        "  return dealTF # return the boolean variable requested by the instructions that indicates whether a deal was detected"
      ]
    },
    {
      "cell_type": "code",
      "execution_count": null,
      "metadata": {
        "id": "DvKDIr03L7sB"
      },
      "outputs": [],
      "source": [
        "import json\n",
        "\n",
        "handle = 'RedFlagDeals' # you can use any handle for testing here\n",
        "output = [] # list of dictionaries declared for final output\n",
        "\n",
        "# get tweets\n",
        "tweets = get_tweets_by_handle(handle, twitter_api_key)\n",
        "\n",
        "# \n",
        "tweet_array = tweets.values.tolist() # convert back into array from pandas dataframe\n",
        "\n",
        "# ...your code here\n",
        "# iterate over all the tweets and get predict \n",
        "val = True\n",
        "for tweet in tweet_array:\n",
        "  val = check_deal_from_tweet(tweet[0], openai_api_key)\n",
        "  output.append({\n",
        "      'handle': tweet[2],\n",
        "      'tweet': tweet[0],\n",
        "      'tweet_id': tweet[1],\n",
        "      'hasDeal': val\n",
        "  })\n",
        "\n",
        "#output = '\\n'.join(str(twt) for twt in output)\n",
        "\n",
        "print(json.dumps(output, indent = 1, separators=(',', ': ')))"
      ]
    }
  ],
  "metadata": {
    "colab": {
      "provenance": []
    },
    "kernelspec": {
      "display_name": "Python 3",
      "name": "python3"
    },
    "language_info": {
      "name": "python"
    }
  },
  "nbformat": 4,
  "nbformat_minor": 0
}